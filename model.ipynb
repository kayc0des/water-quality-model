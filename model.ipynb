{
 "cells": [
  {
   "cell_type": "markdown",
   "metadata": {},
   "source": [
    "# Water Quality Model\n",
    "\n",
    "The water quality model employs supervised machine learning techniques to classify water as potable (1) or not potable (0), making this a binary classification problem since the output variable is categorical. Supervised learning is a type of machine learning where the model is trained on labeled data. In this context, \"labeled data\" means that each training example is paired with an output label. The goal of the model is to learn the mapping from inputs to outputs based on the provided labels. \n",
    "\n",
    "## Data\n",
    "\n",
    "The data is stored in a CSV file located in the `data` folder under the name `water_potability.csv`. The first task involves performing Exploratory Data Analysis (EDA) to identify any discrepancies in the dataset, normalize the data, and visualize it effectively."
   ]
  },
  {
   "cell_type": "code",
   "execution_count": 25,
   "metadata": {},
   "outputs": [],
   "source": [
    "# import modules needed\n",
    "\n",
    "import pandas as pd\n",
    "import tensorflow as tf\n",
    "import matplotlib.pyplot as plt\n",
    "import numpy as np\n",
    "from sklearn.preprocessing import MinMaxScaler"
   ]
  },
  {
   "cell_type": "code",
   "execution_count": 8,
   "metadata": {},
   "outputs": [
    {
     "name": "stdout",
     "output_type": "stream",
     "text": [
      "          ph    Hardness        Solids  Chloramines     Sulfate  Conductivity  \\\n",
      "0        NaN  204.890455  20791.318981     7.300212  368.516441    564.308654   \n",
      "1   3.716080  129.422921  18630.057858     6.635246         NaN    592.885359   \n",
      "2   8.099124  224.236259  19909.541732     9.275884         NaN    418.606213   \n",
      "3   8.316766  214.373394  22018.417441     8.059332  356.886136    363.266516   \n",
      "4   9.092223  181.101509  17978.986339     6.546600  310.135738    398.410813   \n",
      "5   5.584087  188.313324  28748.687739     7.544869  326.678363    280.467916   \n",
      "6  10.223862  248.071735  28749.716544     7.513408  393.663396    283.651634   \n",
      "7   8.635849  203.361523  13672.091764     4.563009  303.309771    474.607645   \n",
      "8        NaN  118.988579  14285.583854     7.804174  268.646941    389.375566   \n",
      "9  11.180284  227.231469  25484.508491     9.077200  404.041635    563.885481   \n",
      "\n",
      "   Organic_carbon  Trihalomethanes  Turbidity  Potability  \n",
      "0       10.379783        86.990970   2.963135           0  \n",
      "1       15.180013        56.329076   4.500656           0  \n",
      "2       16.868637        66.420093   3.055934           0  \n",
      "3       18.436524       100.341674   4.628771           0  \n",
      "4       11.558279        31.997993   4.075075           0  \n",
      "5        8.399735        54.917862   2.559708           0  \n",
      "6       13.789695        84.603556   2.672989           0  \n",
      "7       12.363817        62.798309   4.401425           0  \n",
      "8       12.706049        53.928846   3.595017           0  \n",
      "9       17.927806        71.976601   4.370562           0  \n",
      "Data has 3276 rows and 10 columns\n"
     ]
    }
   ],
   "source": [
    "# read csv file and print the first 10 rows\n",
    "\n",
    "data = pd.read_csv('data/water_potability.csv')\n",
    "print(data.head(10))\n",
    "\n",
    "# Number of rows and columns in entire dataset\n",
    "print(f'Data has {data.shape[0]} rows and {data.shape[1]} columns')"
   ]
  },
  {
   "cell_type": "markdown",
   "metadata": {},
   "source": [
    "### Check for the availability and number of NaN values in the dataset"
   ]
  },
  {
   "cell_type": "code",
   "execution_count": 10,
   "metadata": {},
   "outputs": [
    {
     "name": "stdout",
     "output_type": "stream",
     "text": [
      "Nan Values in each column: ph                 491\n",
      "Hardness             0\n",
      "Solids               0\n",
      "Chloramines          0\n",
      "Sulfate            781\n",
      "Conductivity         0\n",
      "Organic_carbon       0\n",
      "Trihalomethanes    162\n",
      "Turbidity            0\n",
      "Potability           0\n",
      "dtype: int64\n"
     ]
    }
   ],
   "source": [
    "# check for Nan Values in each column\n",
    "nan_counts = data.isnull().sum()\n",
    "\n",
    "print(f'Nan Values in each column: {nan_counts}')"
   ]
  },
  {
   "cell_type": "markdown",
   "metadata": {},
   "source": [
    "From the information above the columns sulfate and Trihalomethanes both have a good number of NaN Values. \n",
    "\n",
    "### Replace NaN values with the mean of the column"
   ]
  },
  {
   "cell_type": "code",
   "execution_count": 21,
   "metadata": {},
   "outputs": [
    {
     "name": "stdout",
     "output_type": "stream",
     "text": [
      "NaN values after replacement:\n",
      "ph                 0\n",
      "Hardness           0\n",
      "Solids             0\n",
      "Chloramines        0\n",
      "Sulfate            0\n",
      "Conductivity       0\n",
      "Organic_carbon     0\n",
      "Trihalomethanes    0\n",
      "Turbidity          0\n",
      "Potability         0\n",
      "dtype: int64\n"
     ]
    }
   ],
   "source": [
    "# Replace NaN values in 'sulfate' and 'Trihalomethanes' with the mean of the respective column\n",
    "data['ph'] = data['ph'].fillna(data['ph'].mean())\n",
    "data['Sulfate'] = data['Sulfate'].fillna(data['Sulfate'].mean())\n",
    "data['Trihalomethanes'] = data['Trihalomethanes'].fillna(data['Trihalomethanes'].mean())\n",
    "\n",
    "print(\"NaN values after replacement:\")\n",
    "print(data.isnull().sum())"
   ]
  },
  {
   "cell_type": "code",
   "execution_count": 22,
   "metadata": {},
   "outputs": [
    {
     "name": "stdout",
     "output_type": "stream",
     "text": [
      "          ph    Hardness        Solids  Chloramines     Sulfate  Conductivity  \\\n",
      "0   7.080795  204.890455  20791.318981     7.300212  368.516441    564.308654   \n",
      "1   3.716080  129.422921  18630.057858     6.635246  333.775777    592.885359   \n",
      "2   8.099124  224.236259  19909.541732     9.275884  333.775777    418.606213   \n",
      "3   8.316766  214.373394  22018.417441     8.059332  356.886136    363.266516   \n",
      "4   9.092223  181.101509  17978.986339     6.546600  310.135738    398.410813   \n",
      "5   5.584087  188.313324  28748.687739     7.544869  326.678363    280.467916   \n",
      "6  10.223862  248.071735  28749.716544     7.513408  393.663396    283.651634   \n",
      "7   8.635849  203.361523  13672.091764     4.563009  303.309771    474.607645   \n",
      "8   7.080795  118.988579  14285.583854     7.804174  268.646941    389.375566   \n",
      "9  11.180284  227.231469  25484.508491     9.077200  404.041635    563.885481   \n",
      "\n",
      "   Organic_carbon  Trihalomethanes  Turbidity  Potability  \n",
      "0       10.379783        86.990970   2.963135           0  \n",
      "1       15.180013        56.329076   4.500656           0  \n",
      "2       16.868637        66.420093   3.055934           0  \n",
      "3       18.436524       100.341674   4.628771           0  \n",
      "4       11.558279        31.997993   4.075075           0  \n",
      "5        8.399735        54.917862   2.559708           0  \n",
      "6       13.789695        84.603556   2.672989           0  \n",
      "7       12.363817        62.798309   4.401425           0  \n",
      "8       12.706049        53.928846   3.595017           0  \n",
      "9       17.927806        71.976601   4.370562           0  \n"
     ]
    }
   ],
   "source": [
    "print(data.head(10))"
   ]
  },
  {
   "cell_type": "code",
   "execution_count": 23,
   "metadata": {},
   "outputs": [
    {
     "name": "stdout",
     "output_type": "stream",
     "text": [
      "X features:          ph    Hardness        Solids  Chloramines     Sulfate  Conductivity  \\\n",
      "0  7.080795  204.890455  20791.318981     7.300212  368.516441    564.308654   \n",
      "1  3.716080  129.422921  18630.057858     6.635246  333.775777    592.885359   \n",
      "2  8.099124  224.236259  19909.541732     9.275884  333.775777    418.606213   \n",
      "3  8.316766  214.373394  22018.417441     8.059332  356.886136    363.266516   \n",
      "4  9.092223  181.101509  17978.986339     6.546600  310.135738    398.410813   \n",
      "\n",
      "   Organic_carbon  Trihalomethanes  Turbidity  \n",
      "0       10.379783        86.990970   2.963135  \n",
      "1       15.180013        56.329076   4.500656  \n",
      "2       16.868637        66.420093   3.055934  \n",
      "3       18.436524       100.341674   4.628771  \n",
      "4       11.558279        31.997993   4.075075  \n",
      "Y target: 0    0\n",
      "1    0\n",
      "2    0\n",
      "3    0\n",
      "4    0\n",
      "Name: Potability, dtype: int64\n"
     ]
    }
   ],
   "source": [
    "# Separate our data to X -> Feature Columms and Y -> Output Label\n",
    "\n",
    "X = data.iloc[:, 0:9]\n",
    "Y = data['Potability']\n",
    "\n",
    "# Display first few rows of X and Y to verify\n",
    "print(f'X features: {X.head()}')\n",
    "print(f'Y target: {Y.head()}')"
   ]
  },
  {
   "cell_type": "markdown",
   "metadata": {},
   "source": [
    "### Normalize the Data"
   ]
  },
  {
   "cell_type": "code",
   "execution_count": 24,
   "metadata": {},
   "outputs": [
    {
     "name": "stdout",
     "output_type": "stream",
     "text": [
      "             ph  Hardness    Solids  Chloramines       Sulfate  Conductivity  \\\n",
      "0 -6.043133e-16  0.259195 -0.139471     0.112415  9.613574e-01      1.708954   \n",
      "1 -2.289339e+00 -2.036414 -0.385987    -0.307694  3.145987e-15      2.062575   \n",
      "2  6.928678e-01  0.847665 -0.240047     1.360594  3.145987e-15     -0.094032   \n",
      "3  8.409504e-01  0.547651  0.000493     0.592008  6.395190e-01     -0.778830   \n",
      "4  1.368569e+00 -0.464429 -0.460249    -0.363698 -6.541765e-01     -0.343939   \n",
      "\n",
      "   Organic_carbon  Trihalomethanes  Turbidity  \n",
      "0       -1.180651         1.306149  -1.286298  \n",
      "1        0.270597        -0.638480   0.684218  \n",
      "2        0.781117         0.001509  -1.167365  \n",
      "3        1.255134         2.152874   0.848412  \n",
      "4       -0.824357        -2.181599   0.138786  \n"
     ]
    }
   ],
   "source": [
    "scaler = MinMaxScaler()\n",
    "\n",
    "def normalize_data(X):\n",
    "    '''\n",
    "    Normalizes a data\n",
    "    '''\n",
    "    normalized_data = scaler.fit_transform(X)\n",
    "    \n",
    "    return normalized_data \n",
    "\n",
    "X_normalized = normalize_data(X)\n",
    "\n",
    "X_normalized_df = pd.DataFrame(X_normalized, columns=X.columns)\n",
    "\n",
    "# Display first few rows of the normalized data\n",
    "print(X_normalized_df.head())\n",
    "    "
   ]
  },
  {
   "cell_type": "markdown",
   "metadata": {},
   "source": [
    "## Building a Neural Network for Binary Classification using tensorflow"
   ]
  },
  {
   "cell_type": "code",
   "execution_count": null,
   "metadata": {},
   "outputs": [],
   "source": []
  }
 ],
 "metadata": {
  "kernelspec": {
   "display_name": "Python 3",
   "language": "python",
   "name": "python3"
  },
  "language_info": {
   "codemirror_mode": {
    "name": "ipython",
    "version": 3
   },
   "file_extension": ".py",
   "mimetype": "text/x-python",
   "name": "python",
   "nbconvert_exporter": "python",
   "pygments_lexer": "ipython3",
   "version": "3.12.3"
  }
 },
 "nbformat": 4,
 "nbformat_minor": 2
}
